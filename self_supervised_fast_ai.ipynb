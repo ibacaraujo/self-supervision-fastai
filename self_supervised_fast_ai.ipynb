{
  "nbformat": 4,
  "nbformat_minor": 0,
  "metadata": {
    "colab": {
      "name": "self-supervised-fast-ai.ipynb",
      "provenance": [],
      "collapsed_sections": [
        "pgReV1VQ2LEH",
        "DnhhTTzL2RYb"
      ],
      "authorship_tag": "ABX9TyMLikYn9tqgqAGZFHTzoPGH",
      "include_colab_link": true
    },
    "kernelspec": {
      "name": "python3",
      "display_name": "Python 3"
    }
  },
  "cells": [
    {
      "cell_type": "markdown",
      "metadata": {
        "id": "view-in-github",
        "colab_type": "text"
      },
      "source": [
        "<a href=\"https://colab.research.google.com/github/ibacaraujo/self-supervision-fastai/blob/master/self_supervised_fast_ai.ipynb\" target=\"_parent\"><img src=\"https://colab.research.google.com/assets/colab-badge.svg\" alt=\"Open In Colab\"/></a>"
      ]
    },
    {
      "cell_type": "markdown",
      "metadata": {
        "id": "TOOJxoLz2IZ_",
        "colab_type": "text"
      },
      "source": [
        "# Self-Supervised Learning with fast.ai"
      ]
    },
    {
      "cell_type": "markdown",
      "metadata": {
        "id": "pgReV1VQ2LEH",
        "colab_type": "text"
      },
      "source": [
        "### Install fast.ai2"
      ]
    },
    {
      "cell_type": "code",
      "metadata": {
        "id": "0Xv26K_auCbh",
        "colab_type": "code",
        "outputId": "4c660e69-fe48-442e-d89c-ed67e5b875dc",
        "colab": {
          "base_uri": "https://localhost:8080/",
          "height": 785
        }
      },
      "source": [
        "!pip install fastai2"
      ],
      "execution_count": 2,
      "outputs": [
        {
          "output_type": "stream",
          "text": [
            "Collecting fastai2\n",
            "\u001b[?25l  Downloading https://files.pythonhosted.org/packages/bd/2b/9e0f6d3d928105dec034727ed723c33340f71a77ca253b67bbec99eacd3f/fastai2-0.0.16-py3-none-any.whl (184kB)\n",
            "\r\u001b[K     |█▉                              | 10kB 16.5MB/s eta 0:00:01\r\u001b[K     |███▋                            | 20kB 2.1MB/s eta 0:00:01\r\u001b[K     |█████▍                          | 30kB 2.6MB/s eta 0:00:01\r\u001b[K     |███████▏                        | 40kB 2.0MB/s eta 0:00:01\r\u001b[K     |█████████                       | 51kB 2.2MB/s eta 0:00:01\r\u001b[K     |██████████▊                     | 61kB 2.6MB/s eta 0:00:01\r\u001b[K     |████████████▌                   | 71kB 2.8MB/s eta 0:00:01\r\u001b[K     |██████████████▎                 | 81kB 2.8MB/s eta 0:00:01\r\u001b[K     |████████████████                | 92kB 3.1MB/s eta 0:00:01\r\u001b[K     |█████████████████▉              | 102kB 3.3MB/s eta 0:00:01\r\u001b[K     |███████████████████▋            | 112kB 3.3MB/s eta 0:00:01\r\u001b[K     |█████████████████████▍          | 122kB 3.3MB/s eta 0:00:01\r\u001b[K     |███████████████████████▏        | 133kB 3.3MB/s eta 0:00:01\r\u001b[K     |█████████████████████████       | 143kB 3.3MB/s eta 0:00:01\r\u001b[K     |██████████████████████████▊     | 153kB 3.3MB/s eta 0:00:01\r\u001b[K     |████████████████████████████▌   | 163kB 3.3MB/s eta 0:00:01\r\u001b[K     |██████████████████████████████▎ | 174kB 3.3MB/s eta 0:00:01\r\u001b[K     |████████████████████████████████| 184kB 3.3MB/s \n",
            "\u001b[?25hRequirement already satisfied: spacy in /usr/local/lib/python3.6/dist-packages (from fastai2) (2.2.4)\n",
            "Requirement already satisfied: pyyaml in /usr/local/lib/python3.6/dist-packages (from fastai2) (3.13)\n",
            "Requirement already satisfied: scikit-learn in /usr/local/lib/python3.6/dist-packages (from fastai2) (0.22.2.post1)\n",
            "Requirement already satisfied: fastprogress>=0.1.22 in /usr/local/lib/python3.6/dist-packages (from fastai2) (0.2.3)\n",
            "Collecting fastcore\n",
            "  Downloading https://files.pythonhosted.org/packages/3b/b5/aed836ce5b16ea1088a5d1a41d400bc051abf90bbef58bb74d8fd01a76af/fastcore-0.1.16-py3-none-any.whl\n",
            "Requirement already satisfied: pandas in /usr/local/lib/python3.6/dist-packages (from fastai2) (1.0.3)\n",
            "Requirement already satisfied: matplotlib in /usr/local/lib/python3.6/dist-packages (from fastai2) (3.2.1)\n",
            "Requirement already satisfied: pillow in /usr/local/lib/python3.6/dist-packages (from fastai2) (7.0.0)\n",
            "Requirement already satisfied: torch>=1.3.0 in /usr/local/lib/python3.6/dist-packages (from fastai2) (1.4.0)\n",
            "Requirement already satisfied: requests in /usr/local/lib/python3.6/dist-packages (from fastai2) (2.21.0)\n",
            "Requirement already satisfied: torchvision>=0.5 in /usr/local/lib/python3.6/dist-packages (from fastai2) (0.5.0)\n",
            "Requirement already satisfied: scipy in /usr/local/lib/python3.6/dist-packages (from fastai2) (1.4.1)\n",
            "Requirement already satisfied: wasabi<1.1.0,>=0.4.0 in /usr/local/lib/python3.6/dist-packages (from spacy->fastai2) (0.6.0)\n",
            "Requirement already satisfied: plac<1.2.0,>=0.9.6 in /usr/local/lib/python3.6/dist-packages (from spacy->fastai2) (1.1.3)\n",
            "Requirement already satisfied: tqdm<5.0.0,>=4.38.0 in /usr/local/lib/python3.6/dist-packages (from spacy->fastai2) (4.38.0)\n",
            "Requirement already satisfied: numpy>=1.15.0 in /usr/local/lib/python3.6/dist-packages (from spacy->fastai2) (1.18.2)\n",
            "Requirement already satisfied: setuptools in /usr/local/lib/python3.6/dist-packages (from spacy->fastai2) (46.1.3)\n",
            "Requirement already satisfied: cymem<2.1.0,>=2.0.2 in /usr/local/lib/python3.6/dist-packages (from spacy->fastai2) (2.0.3)\n",
            "Requirement already satisfied: thinc==7.4.0 in /usr/local/lib/python3.6/dist-packages (from spacy->fastai2) (7.4.0)\n",
            "Requirement already satisfied: preshed<3.1.0,>=3.0.2 in /usr/local/lib/python3.6/dist-packages (from spacy->fastai2) (3.0.2)\n",
            "Requirement already satisfied: srsly<1.1.0,>=1.0.2 in /usr/local/lib/python3.6/dist-packages (from spacy->fastai2) (1.0.2)\n",
            "Requirement already satisfied: murmurhash<1.1.0,>=0.28.0 in /usr/local/lib/python3.6/dist-packages (from spacy->fastai2) (1.0.2)\n",
            "Requirement already satisfied: catalogue<1.1.0,>=0.0.7 in /usr/local/lib/python3.6/dist-packages (from spacy->fastai2) (1.0.0)\n",
            "Requirement already satisfied: blis<0.5.0,>=0.4.0 in /usr/local/lib/python3.6/dist-packages (from spacy->fastai2) (0.4.1)\n",
            "Requirement already satisfied: joblib>=0.11 in /usr/local/lib/python3.6/dist-packages (from scikit-learn->fastai2) (0.14.1)\n",
            "Requirement already satisfied: dataclasses>='0.7'; python_version < \"3.7\" in /usr/local/lib/python3.6/dist-packages (from fastcore->fastai2) (0.7)\n",
            "Requirement already satisfied: python-dateutil>=2.6.1 in /usr/local/lib/python3.6/dist-packages (from pandas->fastai2) (2.8.1)\n",
            "Requirement already satisfied: pytz>=2017.2 in /usr/local/lib/python3.6/dist-packages (from pandas->fastai2) (2018.9)\n",
            "Requirement already satisfied: kiwisolver>=1.0.1 in /usr/local/lib/python3.6/dist-packages (from matplotlib->fastai2) (1.2.0)\n",
            "Requirement already satisfied: pyparsing!=2.0.4,!=2.1.2,!=2.1.6,>=2.0.1 in /usr/local/lib/python3.6/dist-packages (from matplotlib->fastai2) (2.4.7)\n",
            "Requirement already satisfied: cycler>=0.10 in /usr/local/lib/python3.6/dist-packages (from matplotlib->fastai2) (0.10.0)\n",
            "Requirement already satisfied: certifi>=2017.4.17 in /usr/local/lib/python3.6/dist-packages (from requests->fastai2) (2020.4.5.1)\n",
            "Requirement already satisfied: idna<2.9,>=2.5 in /usr/local/lib/python3.6/dist-packages (from requests->fastai2) (2.8)\n",
            "Requirement already satisfied: urllib3<1.25,>=1.21.1 in /usr/local/lib/python3.6/dist-packages (from requests->fastai2) (1.24.3)\n",
            "Requirement already satisfied: chardet<3.1.0,>=3.0.2 in /usr/local/lib/python3.6/dist-packages (from requests->fastai2) (3.0.4)\n",
            "Requirement already satisfied: six in /usr/local/lib/python3.6/dist-packages (from torchvision>=0.5->fastai2) (1.12.0)\n",
            "Requirement already satisfied: importlib-metadata>=0.20; python_version < \"3.8\" in /usr/local/lib/python3.6/dist-packages (from catalogue<1.1.0,>=0.0.7->spacy->fastai2) (1.6.0)\n",
            "Requirement already satisfied: zipp>=0.5 in /usr/local/lib/python3.6/dist-packages (from importlib-metadata>=0.20; python_version < \"3.8\"->catalogue<1.1.0,>=0.0.7->spacy->fastai2) (3.1.0)\n",
            "Installing collected packages: fastcore, fastai2\n",
            "Successfully installed fastai2-0.0.16 fastcore-0.1.16\n"
          ],
          "name": "stdout"
        }
      ]
    },
    {
      "cell_type": "markdown",
      "metadata": {
        "id": "DnhhTTzL2RYb",
        "colab_type": "text"
      },
      "source": [
        "### Import libraries"
      ]
    },
    {
      "cell_type": "code",
      "metadata": {
        "id": "T2TJPz8-1-yi",
        "colab_type": "code",
        "colab": {}
      },
      "source": [
        "from fastai2.vision.all import *"
      ],
      "execution_count": 0,
      "outputs": []
    },
    {
      "cell_type": "markdown",
      "metadata": {
        "id": "jCfClK212TyW",
        "colab_type": "text"
      },
      "source": [
        "### Define architecture and model"
      ]
    },
    {
      "cell_type": "code",
      "metadata": {
        "id": "ZPAN0Vtu2X_A",
        "colab_type": "code",
        "colab": {}
      },
      "source": [
        "def simple_arch(pretrained=False):\n",
        "  model = nn.Sequential(\n",
        "      nn.Conv2d(1, 4, 3, 1),\n",
        "      nn.BatchNorm2d(4),\n",
        "      nn.ReLU(),\n",
        "      nn.Conv2d(4, 16, 3, 1),\n",
        "      nn.BatchNorm2d(16),\n",
        "      nn.ReLU(),\n",
        "      nn.Conv2d(16, 32, 3, 1),\n",
        "      nn.BatchNorm2d(32),\n",
        "      nn.AdaptiveAvgPool2d(1),\n",
        "  )\n",
        "  if (pretrained):\n",
        "    print(\"Loading pretrained model...\")\n",
        "    pretrained_weights = torch.load(save_path/'rot_pretrained.pt')\n",
        "    print(model.load_state_dict(pretrained_weights))\n",
        "  return model"
      ],
      "execution_count": 0,
      "outputs": []
    },
    {
      "cell_type": "code",
      "metadata": {
        "id": "7DaihD1m47Kd",
        "colab_type": "code",
        "colab": {
          "base_uri": "https://localhost:8080/",
          "height": 187
        },
        "outputId": "0a58df62-9ad7-4875-d4ed-a47fc352033a"
      },
      "source": [
        "body = create_body(arch=simple_arch, pretrained=False)\n",
        "body"
      ],
      "execution_count": 6,
      "outputs": [
        {
          "output_type": "execute_result",
          "data": {
            "text/plain": [
              "Sequential(\n",
              "  (0): Conv2d(1, 4, kernel_size=(3, 3), stride=(1, 1))\n",
              "  (1): BatchNorm2d(4, eps=1e-05, momentum=0.1, affine=True, track_running_stats=True)\n",
              "  (2): ReLU()\n",
              "  (3): Conv2d(4, 16, kernel_size=(3, 3), stride=(1, 1))\n",
              "  (4): BatchNorm2d(16, eps=1e-05, momentum=0.1, affine=True, track_running_stats=True)\n",
              "  (5): ReLU()\n",
              "  (6): Conv2d(16, 32, kernel_size=(3, 3), stride=(1, 1))\n",
              "  (7): BatchNorm2d(32, eps=1e-05, momentum=0.1, affine=True, track_running_stats=True)\n",
              ")"
            ]
          },
          "metadata": {
            "tags": []
          },
          "execution_count": 6
        }
      ]
    },
    {
      "cell_type": "code",
      "metadata": {
        "id": "2uYi4BRb5ESK",
        "colab_type": "code",
        "colab": {
          "base_uri": "https://localhost:8080/",
          "height": 187
        },
        "outputId": "26581123-e63f-4561-aa0d-a77c8578f54f"
      },
      "source": [
        "head = create_head(nf=32*2, n_out=8, lin_ftrs=[])\n",
        "head"
      ],
      "execution_count": 8,
      "outputs": [
        {
          "output_type": "execute_result",
          "data": {
            "text/plain": [
              "Sequential(\n",
              "  (0): AdaptiveConcatPool2d(\n",
              "    (ap): AdaptiveAvgPool2d(output_size=1)\n",
              "    (mp): AdaptiveMaxPool2d(output_size=1)\n",
              "  )\n",
              "  (1): Flatten(full=False)\n",
              "  (2): BatchNorm1d(64, eps=1e-05, momentum=0.1, affine=True, track_running_stats=True)\n",
              "  (3): Dropout(p=0.5, inplace=False)\n",
              "  (4): Linear(in_features=64, out_features=8, bias=False)\n",
              ")"
            ]
          },
          "metadata": {
            "tags": []
          },
          "execution_count": 8
        }
      ]
    },
    {
      "cell_type": "code",
      "metadata": {
        "id": "CDstXY_I4xux",
        "colab_type": "code",
        "colab": {
          "base_uri": "https://localhost:8080/",
          "height": 391
        },
        "outputId": "e60182a7-a6ea-4b5e-9a10-394d148d8a5d"
      },
      "source": [
        "model = create_cnn_model(arch=simple_arch, pretrained=False, n_out=8, lin_ftrs=[])\n",
        "model"
      ],
      "execution_count": 9,
      "outputs": [
        {
          "output_type": "execute_result",
          "data": {
            "text/plain": [
              "Sequential(\n",
              "  (0): Sequential(\n",
              "    (0): Conv2d(1, 4, kernel_size=(3, 3), stride=(1, 1))\n",
              "    (1): BatchNorm2d(4, eps=1e-05, momentum=0.1, affine=True, track_running_stats=True)\n",
              "    (2): ReLU()\n",
              "    (3): Conv2d(4, 16, kernel_size=(3, 3), stride=(1, 1))\n",
              "    (4): BatchNorm2d(16, eps=1e-05, momentum=0.1, affine=True, track_running_stats=True)\n",
              "    (5): ReLU()\n",
              "    (6): Conv2d(16, 32, kernel_size=(3, 3), stride=(1, 1))\n",
              "    (7): BatchNorm2d(32, eps=1e-05, momentum=0.1, affine=True, track_running_stats=True)\n",
              "  )\n",
              "  (1): Sequential(\n",
              "    (0): AdaptiveConcatPool2d(\n",
              "      (ap): AdaptiveAvgPool2d(output_size=1)\n",
              "      (mp): AdaptiveMaxPool2d(output_size=1)\n",
              "    )\n",
              "    (1): Flatten(full=False)\n",
              "    (2): BatchNorm1d(64, eps=1e-05, momentum=0.1, affine=True, track_running_stats=True)\n",
              "    (3): Dropout(p=0.5, inplace=False)\n",
              "    (4): Linear(in_features=64, out_features=8, bias=False)\n",
              "  )\n",
              ")"
            ]
          },
          "metadata": {
            "tags": []
          },
          "execution_count": 9
        }
      ]
    }
  ]
}